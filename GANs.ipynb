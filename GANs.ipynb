{
 "cells": [
  {
   "cell_type": "code",
   "execution_count": 2,
   "id": "3c946b57-f112-43b7-9e2c-b7f87179b19b",
   "metadata": {},
   "outputs": [
    {
     "name": "stdout",
     "output_type": "stream",
     "text": [
      "Collecting click\n",
      "  Downloading click-8.1.8-py3-none-any.whl (98 kB)\n",
      "     ---------------------------------------- 98.2/98.2 KB 2.8 MB/s eta 0:00:00\n",
      "Requirement already satisfied: colorama in c:\\users\\rosa\\appdata\\local\\programs\\python\\python310\\lib\\site-packages (from click) (0.4.6)\n",
      "Installing collected packages: click\n",
      "Successfully installed click-8.1.8\n"
     ]
    },
    {
     "name": "stderr",
     "output_type": "stream",
     "text": [
      "WARNING: You are using pip version 22.0.4; however, version 25.0.1 is available.\n",
      "You should consider upgrading via the 'C:\\Users\\Rosa\\AppData\\Local\\Programs\\Python\\Python310\\python.exe -m pip install --upgrade pip' command.\n"
     ]
    }
   ],
   "source": [
    "!pip install click"
   ]
  },
  {
   "cell_type": "code",
   "execution_count": 3,
   "id": "413afe33-1326-4d91-b9d8-5adf7ce66471",
   "metadata": {},
   "outputs": [],
   "source": [
    "import torch\n",
    "import os\n",
    "import numpy as np\n",
    "import PIL.Image\n",
    "import dnnlib\n",
    "import legacy"
   ]
  },
  {
   "cell_type": "code",
   "execution_count": 4,
   "id": "176fe24a-5153-4f46-a1a4-364ce75af802",
   "metadata": {},
   "outputs": [],
   "source": [
    "# Descargar el modelo preentrenado de StyleGAN3\n",
    "network_pkl = 'https://api.ngc.nvidia.com/v2/models/nvidia/research/stylegan3/versions/1/files/stylegan3-r-ffhq-1024x1024.pkl'\n",
    "device = torch.device('cuda' if torch.cuda.is_available() else 'cpu')"
   ]
  },
  {
   "cell_type": "code",
   "execution_count": 5,
   "id": "73e47f89-ad59-4f28-8c41-849ad023a3db",
   "metadata": {},
   "outputs": [
    {
     "name": "stdout",
     "output_type": "stream",
     "text": [
      "Downloading https://api.ngc.nvidia.com/v2/models/nvidia/research/stylegan3/versions/1/files/stylegan3-r-ffhq-1024x1024.pkl ... done\n"
     ]
    }
   ],
   "source": [
    "# Cargar el modelo\n",
    "with dnnlib.util.open_url(network_pkl) as f:\n",
    "    G = legacy.load_network_pkl(f)['G_ema'].to(device)  # Red generativa\n",
    "\n",
    "# Generar imágenes\n",
    "z = torch.randn([1, G.z_dim], device=device)  # Vector latente aleatorio\n",
    "c = None  # Sin clases condicionales"
   ]
  },
  {
   "cell_type": "code",
   "execution_count": 6,
   "id": "9c5f74e2-4e42-46ff-8a2d-e664fff41ba1",
   "metadata": {},
   "outputs": [],
   "source": [
    "img = G(z, c, truncation_psi=0.7, noise_mode='const')\n",
    "img = (img.permute(0, 2, 3, 1) * 127.5 + 128).clamp(0, 255).to(torch.uint8)\n",
    "img = PIL.Image.fromarray(img[0].cpu().numpy(), 'RGB')"
   ]
  },
  {
   "cell_type": "code",
   "execution_count": 8,
   "id": "9924c67d-2f8b-4a96-b164-5fad80e38179",
   "metadata": {},
   "outputs": [],
   "source": [
    "# Guardar y mostrar la imagen\n",
    "os.makedirs('output', exist_ok=True)\n",
    "img.save('output/generated_face.png')\n",
    "img.show()"
   ]
  },
  {
   "cell_type": "code",
   "execution_count": null,
   "id": "197ce9c2-009c-41f5-8431-0a9bbbb60836",
   "metadata": {},
   "outputs": [],
   "source": []
  }
 ],
 "metadata": {
  "kernelspec": {
   "display_name": "Python 3 (ipykernel)",
   "language": "python",
   "name": "python3"
  },
  "language_info": {
   "codemirror_mode": {
    "name": "ipython",
    "version": 3
   },
   "file_extension": ".py",
   "mimetype": "text/x-python",
   "name": "python",
   "nbconvert_exporter": "python",
   "pygments_lexer": "ipython3",
   "version": "3.10.5"
  }
 },
 "nbformat": 4,
 "nbformat_minor": 5
}
