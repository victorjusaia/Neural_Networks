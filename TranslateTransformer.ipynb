{
 "cells": [
  {
   "cell_type": "code",
   "execution_count": 1,
   "id": "702652f0-f797-4e97-8176-9fdc8cd77a0e",
   "metadata": {},
   "outputs": [],
   "source": [
    "import warnings\n",
    "warnings.filterwarnings(\"ignore\")"
   ]
  },
  {
   "cell_type": "code",
   "execution_count": 2,
   "id": "e4a685ae-898c-4d7a-bba7-6b44e2b0fb1f",
   "metadata": {},
   "outputs": [],
   "source": [
    "#Instalar dependencias si es necesario\n",
    "#!pip install sentencepiece\n",
    "#!pip install transformers torch"
   ]
  },
  {
   "cell_type": "code",
   "execution_count": null,
   "id": "a34fdf0a-d487-4c5f-935c-c377227315b5",
   "metadata": {},
   "outputs": [],
   "source": [
    "from transformers import MarianMTModel, MarianTokenizer"
   ]
  },
  {
   "cell_type": "code",
   "execution_count": null,
   "id": "7e0cd36b-35ba-4a72-94ba-4daf1af982b2",
   "metadata": {},
   "outputs": [],
   "source": [
    "# Función de traducción\n",
    "def translate_text(text, src_lang='es', tgt_lang='en'):\n",
    "    # El código de idioma sigue la convención ISO 639-1 (es = español, en = inglés, fr = francés)\n",
    "    model_name = f'Helsinki-NLP/opus-mt-{src_lang}-{tgt_lang}'\n",
    "    \n",
    "    # Cargar el modelo y el tokenizador\n",
    "    model = MarianMTModel.from_pretrained(model_name)\n",
    "    tokenizer = MarianTokenizer.from_pretrained(model_name)\n",
    "    \n",
    "    # Tokenizar el texto de entrada\n",
    "    tokens = tokenizer(text, return_tensors='pt', padding=True, truncation=True)\n",
    "    \n",
    "    # Generar la traducción\n",
    "    translated = model.generate(**tokens)\n",
    "    \n",
    "    # Decodificar la traducción\n",
    "    translated_text = tokenizer.decode(translated[0], skip_special_tokens=True)\n",
    "    \n",
    "    return translated_text"
   ]
  },
  {
   "cell_type": "code",
   "execution_count": null,
   "id": "a50ea7a1-2a68-4561-82cd-0731cf232859",
   "metadata": {},
   "outputs": [],
   "source": [
    "#Texto para traducir\n",
    "texto_espanol = \"No hay más oscuridad que la ignorancia.\"\n",
    "\n",
    "# Traducir de español a inglés\n",
    "texto_traducido = translate_text(texto_espanol, src_lang='es', tgt_lang='en')"
   ]
  },
  {
   "cell_type": "code",
   "execution_count": null,
   "id": "21ff9000-370b-4a97-95c8-ce3dba5a52ac",
   "metadata": {},
   "outputs": [],
   "source": [
    "print(f\"Texto en Español: {texto_espanol}\")\n",
    "print(f\"Texto traducido: {texto_traducido}\")"
   ]
  },
  {
   "cell_type": "code",
   "execution_count": null,
   "id": "4fe9b329-707f-4283-bf2d-8b85fb87a6b7",
   "metadata": {},
   "outputs": [],
   "source": []
  }
 ],
 "metadata": {
  "kernelspec": {
   "display_name": "Python 3 (ipykernel)",
   "language": "python",
   "name": "python3"
  },
  "language_info": {
   "codemirror_mode": {
    "name": "ipython",
    "version": 3
   },
   "file_extension": ".py",
   "mimetype": "text/x-python",
   "name": "python",
   "nbconvert_exporter": "python",
   "pygments_lexer": "ipython3",
   "version": "3.10.5"
  }
 },
 "nbformat": 4,
 "nbformat_minor": 5
}
